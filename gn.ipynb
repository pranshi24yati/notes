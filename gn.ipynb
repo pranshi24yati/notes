{
 "cells": [
  {
   "cell_type": "code",
   "execution_count": 4,
   "metadata": {},
   "outputs": [
    {
     "ename": "ValueError",
     "evalue": "invalid literal for int() with base 10: ' DayIndexes (start at zero)'",
     "output_type": "error",
     "traceback": [
      "\u001b[0;31m---------------------------------------------------------------------------\u001b[0m",
      "\u001b[0;31mValueError\u001b[0m                                Traceback (most recent call last)",
      "\u001b[0;32m<ipython-input-4-90f7eefb5d5e>\u001b[0m in \u001b[0;36m<module>\u001b[0;34m\u001b[0m\n\u001b[1;32m     22\u001b[0m         \u001b[0mdays_off\u001b[0m\u001b[0;34m[\u001b[0m\u001b[0md\u001b[0m\u001b[0;34m[\u001b[0m\u001b[0;36m0\u001b[0m\u001b[0;34m]\u001b[0m\u001b[0;34m]\u001b[0m\u001b[0;34m.\u001b[0m\u001b[0mappend\u001b[0m\u001b[0;34m(\u001b[0m\u001b[0mint\u001b[0m\u001b[0;34m(\u001b[0m\u001b[0md\u001b[0m\u001b[0;34m[\u001b[0m\u001b[0;36m1\u001b[0m\u001b[0;34m]\u001b[0m\u001b[0;34m)\u001b[0m\u001b[0;34m)\u001b[0m\u001b[0;34m\u001b[0m\u001b[0;34m\u001b[0m\u001b[0m\n\u001b[1;32m     23\u001b[0m     \u001b[0;32melse\u001b[0m\u001b[0;34m:\u001b[0m\u001b[0;34m\u001b[0m\u001b[0;34m\u001b[0m\u001b[0m\n\u001b[0;32m---> 24\u001b[0;31m         \u001b[0mdays_off\u001b[0m\u001b[0;34m[\u001b[0m\u001b[0md\u001b[0m\u001b[0;34m[\u001b[0m\u001b[0;36m0\u001b[0m\u001b[0;34m]\u001b[0m\u001b[0;34m]\u001b[0m \u001b[0;34m=\u001b[0m \u001b[0;34m[\u001b[0m\u001b[0mint\u001b[0m\u001b[0;34m(\u001b[0m\u001b[0md\u001b[0m\u001b[0;34m[\u001b[0m\u001b[0;36m1\u001b[0m\u001b[0;34m]\u001b[0m\u001b[0;34m)\u001b[0m\u001b[0;34m]\u001b[0m\u001b[0;34m\u001b[0m\u001b[0;34m\u001b[0m\u001b[0m\n\u001b[0m\u001b[1;32m     25\u001b[0m \u001b[0;34m\u001b[0m\u001b[0m\n\u001b[1;32m     26\u001b[0m \u001b[0;31m# Extract the shift on requests from the input data\u001b[0m\u001b[0;34m\u001b[0m\u001b[0;34m\u001b[0m\u001b[0;34m\u001b[0m\u001b[0m\n",
      "\u001b[0;31mValueError\u001b[0m: invalid literal for int() with base 10: ' DayIndexes (start at zero)'"
     ]
    }
   ],
   "source": [
    "# Import necessary libraries\n",
    "import pandas as pd\n",
    "\n",
    "# Read the data and parameters from the input file\n",
    "with open('/Users/apple/Downloads/instances1_24/Instance2.txt', 'r') as f:\n",
    "    input_data = f.read().split('\\n\\n')\n",
    "\n",
    "# Extract the horizon length from the input data\n",
    "#horizon = int(input_data[0])\n",
    "\n",
    "# Extract the shift information from the input data\n",
    "shift_data = input_data[1].split('\\n')[1:]\n",
    "shifts = [shift.split(',')[0] for shift in shift_data]\n",
    "\n",
    "\n",
    "# Extract the days off requests from the input data\n",
    "days_off_data = input_data[3].split('\\n')[1:]\n",
    "days_off = {}\n",
    "for d in days_off_data:\n",
    "    d = d.split(',')\n",
    "    if d[0] in days_off:\n",
    "        days_off[d[0]].append(int(d[1]))\n",
    "    else:\n",
    "        days_off[d[0]] = [int(d[1])]\n",
    "\n",
    "# Extract the shift on requests from the input data\n",
    "shift_on_data = input_data[4].split('\\n')[1:]\n",
    "shift_on = {}\n",
    "for s in shift_on_data:\n",
    "    s = s.split(',')\n",
    "    employee_id, day, shift_id, weight = s[0], int(s[1]), s[2], int(s[3])\n",
    "    if employee_id in shift_on:\n",
    "        shift_on[employee_id].append((day, shift_id, weight))\n",
    "    else:\n",
    "        shift_on[employee_id] = [(day, shift_id, weight)]\n",
    "\n",
    "# Extract the shift off requests from the input data\n",
    "shift_off_data = input_data[5].split('\\n')[1:]\n",
    "shift_off = {}\n",
    "for s in shift_off_data:\n",
    "    s = s.split(',')\n",
    "    employee_id, day, shift_id, weight = s[0], int(s[1]), s[2], int(s[3])\n",
    "    if employee_id in shift_off:\n",
    "        shift_off[employee_id].append((day, shift_id, weight))\n",
    "    else:\n",
    "        shift_off[employee_id] = [(day, shift_id, weight)]\n",
    "\n",
    "# Extract the cover requirements from the input data\n",
    "cover_data = input_data[6].split('\\n')[1:]\n",
    "cover = {}\n",
    "for c in cover_data:\n",
    "    c = c.split(',')\n",
    "    day, shift_id, requirement, weight_under, weight_over = int(c[0]), c[1], int(c[2]), int(c[3]), int(c[4])\n",
    "    if day in cover:\n",
    "        cover[day].append((shift_id, requirement, weight_under, weight_over))\n",
    "    else:\n",
    "        cover[day] = [(shift_id, requirement, weight_under, weight_over)]\n",
    "\n"
   ]
  },
  {
   "cell_type": "code",
   "execution_count": 7,
   "metadata": {},
   "outputs": [
    {
     "ename": "SyntaxError",
     "evalue": "invalid syntax (<ipython-input-7-92276bcb85ed>, line 1)",
     "output_type": "error",
     "traceback": [
      "\u001b[0;36m  File \u001b[0;32m\"<ipython-input-7-92276bcb85ed>\"\u001b[0;36m, line \u001b[0;32m1\u001b[0m\n\u001b[0;31m    def read_data('/Users/apple/Downloads/instances1_24/Instance2.txt', 'r'):\u001b[0m\n\u001b[0m                  ^\u001b[0m\n\u001b[0;31mSyntaxError\u001b[0m\u001b[0;31m:\u001b[0m invalid syntax\n"
     ]
    }
   ],
   "source": [
    "def read_data('/Users/apple/Downloads/instances1_24/Instance2.txt', 'r'):\n",
    "    with open('/Users/apple/Downloads/instances1_24/Instance2.txt', 'r') as f:\n",
    "        data = f.read().split('\\n')\n",
    "\n",
    "    sections = {}\n",
    "    current_section = None\n",
    "\n",
    "    for line in data:\n",
    "        if line.startswith('#') or line.strip() == '':\n",
    "            continue\n",
    "\n",
    "        if line.startswith('SECTION_'):\n",
    "            current_section = line.strip()\n",
    "            sections[current_section] = []\n",
    "        else:\n",
    "            sections[current_section].append(line.strip().split(','))\n",
    "\n",
    "    return sections\n",
    "\n",
    "\n",
    "sections = read_data(f)\n",
    "\n",
    "print(sections['SECTION_HORIZON'])\n",
    "print(sections['SECTION_SHIFTS'])\n",
    "print(sections['SECTION_STAFF'])\n",
    "print(sections['SECTION_DAYS_OFF'])\n",
    "print(sections['SECTION_SHIFT_ON_REQUESTS'])\n",
    "print(sections['SECTION_SHIFT_OFF_REQUESTS'])\n",
    "print(sections['SECTION_COVER'])\n"
   ]
  },
  {
   "cell_type": "code",
   "execution_count": 10,
   "metadata": {},
   "outputs": [],
   "source": [
    "import csv\n",
    "\n",
    "# Open the input file\n",
    "with open('/Users/apple/Downloads/instances1_24/Instance2.txt', 'r') as f:\n",
    "\n",
    "    # Initialize a dictionary to hold the data\n",
    "    data = {}\n",
    "    section_name = None\n",
    "\n",
    "    # Loop over each line in the file\n",
    "    for line in f:\n",
    "\n",
    "        # Strip leading and trailing whitespace from the line\n",
    "        line = line.strip()\n",
    "\n",
    "        # Check if the line is a section header\n",
    "        if line.startswith('SECTION_'):\n",
    "            section_name = line[8:]\n",
    "            data[section_name] = []\n",
    "            continue\n",
    "\n",
    "        # Check if the line is a comment\n",
    "        if line.startswith('#'):\n",
    "            continue\n",
    "\n",
    "        # Split the line into fields\n",
    "        fields = line.split(',')\n",
    "\n",
    "        # Add the fields to the data dictionary\n",
    "        data[section_name].append(fields)\n",
    "\n",
    "# Open the output file\n",
    "with open('output.csv', 'w', newline='') as f:\n",
    "\n",
    "    # Create a CSV writer object\n",
    "    writer = csv.writer(f)\n",
    "\n",
    "    # Loop over each section in the data dictionary\n",
    "    for section_name, section_data in data.items():\n",
    "\n",
    "        # Write the section header\n",
    "        writer.writerow([section_name])\n",
    "\n",
    "        # Write the section data\n",
    "        for row in section_data:\n",
    "            writer.writerow(row)\n"
   ]
  },
  {
   "cell_type": "code",
   "execution_count": 11,
   "metadata": {},
   "outputs": [],
   "source": [
    "# Open the output file\n",
    "with open('output.csv', 'w', newline='') as f:\n",
    "\n",
    "    # Create a CSV writer object\n",
    "    writer = csv.writer(f)\n",
    "\n",
    "    # Loop over each section in the data dictionary\n",
    "    for section_name, section_data in data.items():\n",
    "\n",
    "        # Write the section header\n",
    "        writer.writerow([section_name])\n",
    "\n",
    "        # Write the section data\n",
    "        for row in section_data:\n",
    "            writer.writerow(row)"
   ]
  },
  {
   "cell_type": "code",
   "execution_count": 1,
   "metadata": {},
   "outputs": [
    {
     "name": "stdout",
     "output_type": "stream",
     "text": [
      "Weight for under: 100\n"
     ]
    }
   ],
   "source": [
    "with open('/Users/apple/Downloads/instances1_24/Instance2.txt', 'r') as file:\n",
    "    lines = file.readlines()\n",
    "    for i, line in enumerate(lines):\n",
    "        if 'SECTION_COVER' in line:\n",
    "            for j in range(i+1, len(lines)):\n",
    "                if not lines[j].startswith('#') and lines[j].strip():\n",
    "                    day, shift, req, under, over = lines[j].strip().split(',')\n",
    "                    print(f\"Weight for under: {under}\")\n",
    "                    break\n",
    "            break"
   ]
  },
  {
   "cell_type": "code",
   "execution_count": 3,
   "metadata": {},
   "outputs": [],
   "source": [
    "with open('/Users/apple/Downloads/instances1_24/Instance2.txt', 'r') as f:\n",
    "    lines = f.readlines()\n",
    "\n",
    "shift_off_requests = {}\n",
    "\n",
    "for i, line in enumerate(lines):\n",
    "    if line.strip() == \"SECTION_SHIFT_OFF_REQUESTS\":\n",
    "        for j in range(i+1, len(lines)):\n",
    "            if lines[j].startswith('#'):\n",
    "                continue\n",
    "            if lines[j].strip() == '':\n",
    "                break\n",
    "            employee, day, shift, weight = lines[j].strip().split(',')\n",
    "            weight = int(weight)\n",
    "            if employee not in shift_off_requests:\n",
    "                shift_off_requests[employee] = []\n",
    "            shift_off_requests[employee].append(weight)\n"
   ]
  },
  {
   "cell_type": "code",
   "execution_count": 4,
   "metadata": {},
   "outputs": [
    {
     "name": "stdout",
     "output_type": "stream",
     "text": [
      "{'G': [2, 2, 2, 2, 2], 'H': [2], 'J': [1, 1, 1, 1, 1], 'M': [1]}\n"
     ]
    }
   ],
   "source": [
    "print(shift_off_requests)"
   ]
  },
  {
   "cell_type": "code",
   "execution_count": 1,
   "metadata": {},
   "outputs": [
    {
     "data": {
      "text/plain": [
       "{'[1,2,3]': 2}"
      ]
     },
     "execution_count": 1,
     "metadata": {},
     "output_type": "execute_result"
    }
   ],
   "source": [
    "{'[1,2,3]': 2}"
   ]
  },
  {
   "cell_type": "code",
   "execution_count": 4,
   "metadata": {},
   "outputs": [],
   "source": [
    "I = [\"A\"]\n",
    "D= [\"D\"]\n",
    "T= [\"T\"]\n",
    "q= {'[i,d,t]': 2 for i in I for d in D for t in T}"
   ]
  },
  {
   "cell_type": "code",
   "execution_count": 7,
   "metadata": {},
   "outputs": [
    {
     "name": "stdout",
     "output_type": "stream",
     "text": [
      "{'[i,d,t]': 2}\n"
     ]
    }
   ],
   "source": [
    "print(q)"
   ]
  },
  {
   "cell_type": "code",
   "execution_count": 10,
   "metadata": {},
   "outputs": [],
   "source": [
    "\n",
    "# Set of employees, days, and shifts\n",
    "employees = ['A', 'B', 'C', 'D', 'F', 'H']\n",
    "days = list(range(14))\n",
    "shifts = ['D']\n",
    "\n",
    "# Set of shift assignments\n",
    "shift_assignments = [(i, d, s) for i in employees for d in days for s in shifts]\n",
    "\n",
    "# Set of shift on requests\n",
    "shift_on_requests = [('A',2,'D',2), ('A',3,'D',2), ('B',0,'D',3), ('B',1,'D',3), ('B',2,'D',3), \n",
    "                     ('B',3,'D',3), ('B',4,'D',3), ('C',0,'D',1), ('C',1,'D',1), ('C',2,'D',1), \n",
    "                     ('C',3,'D',1), ('C',4,'D',1), ('D',8,'D',2), ('D',9,'D',2), ('F',0,'D',2), \n",
    "                     ('F',1,'D',2), ('H',9,'D',1), ('H',10,'D',1), ('H',11,'D',1), ('H',12,'D',1), \n",
    "                     ('H',13,'D',1)]\n",
    "\n",
    "# Create a dictionary to store the penalty values for each employee on each day and shift\n",
    "penalties = {}\n",
    "for i in employees:\n",
    "    for d in days:\n",
    "        for s in shifts:\n",
    "            if (i, d, s) in shift_on_requests:\n",
    "                penalty = shift_on_requests[(i, d, s)]\n",
    "            else:\n",
    "                penalty = 0\n",
    "            penalties[(i, d, s)] = penalty\n",
    "\n"
   ]
  },
  {
   "cell_type": "code",
   "execution_count": 11,
   "metadata": {},
   "outputs": [
    {
     "name": "stdout",
     "output_type": "stream",
     "text": [
      "{('A', 0, 'D'): 0, ('A', 1, 'D'): 0, ('A', 2, 'D'): 0, ('A', 3, 'D'): 0, ('A', 4, 'D'): 0, ('A', 5, 'D'): 0, ('A', 6, 'D'): 0, ('A', 7, 'D'): 0, ('A', 8, 'D'): 0, ('A', 9, 'D'): 0, ('A', 10, 'D'): 0, ('A', 11, 'D'): 0, ('A', 12, 'D'): 0, ('A', 13, 'D'): 0, ('B', 0, 'D'): 0, ('B', 1, 'D'): 0, ('B', 2, 'D'): 0, ('B', 3, 'D'): 0, ('B', 4, 'D'): 0, ('B', 5, 'D'): 0, ('B', 6, 'D'): 0, ('B', 7, 'D'): 0, ('B', 8, 'D'): 0, ('B', 9, 'D'): 0, ('B', 10, 'D'): 0, ('B', 11, 'D'): 0, ('B', 12, 'D'): 0, ('B', 13, 'D'): 0, ('C', 0, 'D'): 0, ('C', 1, 'D'): 0, ('C', 2, 'D'): 0, ('C', 3, 'D'): 0, ('C', 4, 'D'): 0, ('C', 5, 'D'): 0, ('C', 6, 'D'): 0, ('C', 7, 'D'): 0, ('C', 8, 'D'): 0, ('C', 9, 'D'): 0, ('C', 10, 'D'): 0, ('C', 11, 'D'): 0, ('C', 12, 'D'): 0, ('C', 13, 'D'): 0, ('D', 0, 'D'): 0, ('D', 1, 'D'): 0, ('D', 2, 'D'): 0, ('D', 3, 'D'): 0, ('D', 4, 'D'): 0, ('D', 5, 'D'): 0, ('D', 6, 'D'): 0, ('D', 7, 'D'): 0, ('D', 8, 'D'): 0, ('D', 9, 'D'): 0, ('D', 10, 'D'): 0, ('D', 11, 'D'): 0, ('D', 12, 'D'): 0, ('D', 13, 'D'): 0, ('F', 0, 'D'): 0, ('F', 1, 'D'): 0, ('F', 2, 'D'): 0, ('F', 3, 'D'): 0, ('F', 4, 'D'): 0, ('F', 5, 'D'): 0, ('F', 6, 'D'): 0, ('F', 7, 'D'): 0, ('F', 8, 'D'): 0, ('F', 9, 'D'): 0, ('F', 10, 'D'): 0, ('F', 11, 'D'): 0, ('F', 12, 'D'): 0, ('F', 13, 'D'): 0, ('H', 0, 'D'): 0, ('H', 1, 'D'): 0, ('H', 2, 'D'): 0, ('H', 3, 'D'): 0, ('H', 4, 'D'): 0, ('H', 5, 'D'): 0, ('H', 6, 'D'): 0, ('H', 7, 'D'): 0, ('H', 8, 'D'): 0, ('H', 9, 'D'): 0, ('H', 10, 'D'): 0, ('H', 11, 'D'): 0, ('H', 12, 'D'): 0, ('H', 13, 'D'): 0}\n"
     ]
    }
   ],
   "source": [
    "print(penalties)"
   ]
  },
  {
   "cell_type": "code",
   "execution_count": 12,
   "metadata": {},
   "outputs": [
    {
     "name": "stdout",
     "output_type": "stream",
     "text": [
      "Penalty for Employee A\n",
      "Day 2\n",
      "Shift D : 2\n",
      "Day 3\n",
      "Shift D : 2\n",
      "Penalty for Employee B\n",
      "Day 0\n",
      "Shift D : 3\n",
      "Day 1\n",
      "Shift D : 3\n",
      "Day 2\n",
      "Shift D : 3\n",
      "Day 3\n",
      "Shift D : 3\n",
      "Day 4\n",
      "Shift D : 3\n",
      "Penalty for Employee C\n",
      "Day 0\n",
      "Shift D : 1\n",
      "Day 1\n",
      "Shift D : 1\n",
      "Day 2\n",
      "Shift D : 1\n",
      "Day 3\n",
      "Shift D : 1\n",
      "Day 4\n",
      "Shift D : 1\n",
      "Penalty for Employee D\n",
      "Day 8\n",
      "Shift D : 2\n",
      "Day 9\n",
      "Shift D : 2\n",
      "Penalty for Employee F\n",
      "Day 0\n",
      "Shift D : 2\n",
      "Day 1\n",
      "Shift D : 2\n",
      "Penalty for Employee H\n",
      "Day 9\n",
      "Shift D : 1\n",
      "Day 10\n",
      "Shift D : 1\n",
      "Day 11\n",
      "Shift D : 1\n",
      "Day 12\n",
      "Shift D : 1\n",
      "Day 13\n",
      "Shift D : 1\n"
     ]
    }
   ],
   "source": [
    "# Define a dictionary to store penalty for each employee\n",
    "penalty = {}\n",
    "\n",
    "# Define the SECTION_SHIFT_ON_REQUESTS data\n",
    "SECTION_SHIFT_ON_REQUESTS = [\n",
    "    ['A', 2, 'D', 2],\n",
    "    ['A', 3, 'D', 2],\n",
    "    ['B', 0, 'D', 3],\n",
    "    ['B', 1, 'D', 3],\n",
    "    ['B', 2, 'D', 3],\n",
    "    ['B', 3, 'D', 3],\n",
    "    ['B', 4, 'D', 3],\n",
    "    ['C', 0, 'D', 1],\n",
    "    ['C', 1, 'D', 1],\n",
    "    ['C', 2, 'D', 1],\n",
    "    ['C', 3, 'D', 1],\n",
    "    ['C', 4, 'D', 1],\n",
    "    ['D', 8, 'D', 2],\n",
    "    ['D', 9, 'D', 2],\n",
    "    ['F', 0, 'D', 2],\n",
    "    ['F', 1, 'D', 2],\n",
    "    ['H', 9, 'D', 1],\n",
    "    ['H', 10, 'D', 1],\n",
    "    ['H', 11, 'D', 1],\n",
    "    ['H', 12, 'D', 1],\n",
    "    ['H', 13, 'D', 1]\n",
    "]\n",
    "\n",
    "# Loop through each shift in SECTION_SHIFT_ON_REQUESTS and update penalty dictionary\n",
    "for shift in SECTION_SHIFT_ON_REQUESTS:\n",
    "    employee_id = shift[0]\n",
    "    day = shift[1]\n",
    "    shift_id = shift[2]\n",
    "    weight = shift[3]\n",
    "    \n",
    "    if employee_id not in penalty:\n",
    "        penalty[employee_id] = {}\n",
    "    if day not in penalty[employee_id]:\n",
    "        penalty[employee_id][day] = {}\n",
    "    \n",
    "    penalty[employee_id][day][shift_id] = weight\n",
    "\n",
    "# Print penalty for each employee\n",
    "for employee_id in penalty:\n",
    "    print(\"Penalty for Employee\", employee_id)\n",
    "    for day in penalty[employee_id]:\n",
    "        print(\"Day\", day)\n",
    "        for shift_id in penalty[employee_id][day]:\n",
    "            print(\"Shift\", shift_id, \":\", penalty[employee_id][day][shift_id])\n"
   ]
  },
  {
   "cell_type": "code",
   "execution_count": 18,
   "metadata": {},
   "outputs": [
    {
     "name": "stdout",
     "output_type": "stream",
     "text": [
      "{'A': {2: {'D': 2}, 3: {'D': 2}}, 'B': {0: {'D': 3}, 1: {'D': 3}, 2: {'D': 3}, 3: {'D': 3}, 4: {'D': 3}}, 'C': {0: {'D': 1}, 1: {'D': 1}, 2: {'D': 1}, 3: {'D': 1}, 4: {'D': 1}}, 'D': {8: {'D': 2}, 9: {'D': 2}}, 'F': {0: {'D': 2}, 1: {'D': 2}}, 'H': {9: {'D': 1}, 10: {'D': 1}, 11: {'D': 1}, 12: {'D': 1}, 13: {'D': 1}}}\n"
     ]
    }
   ],
   "source": [
    "print(penalty)"
   ]
  },
  {
   "cell_type": "code",
   "execution_count": 25,
   "metadata": {},
   "outputs": [
    {
     "name": "stdout",
     "output_type": "stream",
     "text": [
      "   EmployeeID  Day ShiftID  Weight\n",
      "0           A    2       D       2\n",
      "1           A    3       D       2\n",
      "2           B    0       D       3\n",
      "3           B    1       D       3\n",
      "4           B    2       D       3\n",
      "5           B    3       D       3\n",
      "6           B    4       D       3\n",
      "7           C    0       D       1\n",
      "8           C    1       D       1\n",
      "9           C    2       D       1\n",
      "10          C    3       D       1\n",
      "11          C    4       D       1\n",
      "12          D    8       D       2\n",
      "13          D    9       D       2\n",
      "14          F    0       D       2\n",
      "15          F    1       D       2\n",
      "16          H    9       D       1\n",
      "17          H   10       D       1\n",
      "18          H   11       D       1\n",
      "19          H   12       D       1\n",
      "20          H   13       D       1\n"
     ]
    }
   ],
   "source": [
    "import pandas as pd\n",
    "\n",
    "data = [    ['A', 2, 'D', 2],\n",
    "    ['A', 3, 'D', 2],\n",
    "    ['B', 0, 'D', 3],\n",
    "    ['B', 1, 'D', 3],\n",
    "    ['B', 2, 'D', 3],\n",
    "    ['B', 3, 'D', 3],\n",
    "    ['B', 4, 'D', 3],\n",
    "    ['C', 0, 'D', 1],\n",
    "    ['C', 1, 'D', 1],\n",
    "    ['C', 2, 'D', 1],\n",
    "    ['C', 3, 'D', 1],\n",
    "    ['C', 4, 'D', 1],\n",
    "    ['D', 8, 'D', 2],\n",
    "    ['D', 9, 'D', 2],\n",
    "    ['F', 0, 'D', 2],\n",
    "    ['F', 1, 'D', 2],\n",
    "    ['H', 9, 'D', 1],\n",
    "    ['H', 10, 'D', 1],\n",
    "    ['H', 11, 'D', 1],\n",
    "    ['H', 12, 'D', 1],\n",
    "    ['H', 13, 'D', 1]\n",
    "]\n",
    "\n",
    "df = pd.DataFrame(data, columns=['EmployeeID', 'Day', 'ShiftID', 'Weight'])\n",
    "\n",
    "print(df)\n",
    "\n"
   ]
  },
  {
   "cell_type": "code",
   "execution_count": 33,
   "metadata": {},
   "outputs": [
    {
     "name": "stdout",
     "output_type": "stream",
     "text": [
      "{'A': {2: {'D': 2}, 3: {'D': 2}}, 'B': {0: {'D': 3}, 1: {'D': 3}, 2: {'D': 3}, 3: {'D': 3}, 4: {'D': 3}}, 'C': {0: {'D': 1}, 1: {'D': 1}, 2: {'D': 1}, 3: {'D': 1}, 4: {'D': 1}}, 'D': {8: {'D': 2}, 9: {'D': 2}}, 'F': {0: {'D': 2}, 1: {'D': 2}}, 'H': {9: {'D': 1}, 10: {'D': 1}, 11: {'D': 1}, 12: {'D': 1}, 13: {'D': 1}}}\n"
     ]
    }
   ],
   "source": [
    "import pandas as pd\n",
    "\n",
    "# read data into a pandas DataFrame\n",
    "\n",
    "# initialize penalty dictionary\n",
    "penalty_dict = {}\n",
    "\n",
    "# iterate over rows in the DataFrame\n",
    "for index, row in df.iterrows():\n",
    "    emp_id = row[\"EmployeeID\"]\n",
    "    day = row[\"Day\"]\n",
    "    shift_id = row[\"ShiftID\"]\n",
    "    weight = row[\"Weight\"]\n",
    "    \n",
    "    # if employee not yet in penalty_dict, add them\n",
    "    if emp_id not in penalty_dict:\n",
    "        penalty_dict[emp_id] = {}\n",
    "    \n",
    "    # if day not yet in penalty_dict[emp_id], add it\n",
    "    if day not in penalty_dict[emp_id]:\n",
    "        penalty_dict[emp_id][day] = {}\n",
    "        \n",
    "    if shift_id not in penalty_dict[emp_id][day]:\n",
    "        penalty_dict[emp_id][day][shift_id] = {}\n",
    "    # calculate penalty for this combination and add it to dictionary\n",
    "    \n",
    "    penalty_dict[emp_id][day][shift_id] = weight\n",
    "    \n",
    "print(penalty_dict)\n",
    "\n"
   ]
  },
  {
   "cell_type": "code",
   "execution_count": 31,
   "metadata": {},
   "outputs": [
    {
     "ename": "ModuleNotFoundError",
     "evalue": "No module named 'gurobipy'",
     "output_type": "error",
     "traceback": [
      "\u001b[0;31m---------------------------------------------------------------------------\u001b[0m",
      "\u001b[0;31mModuleNotFoundError\u001b[0m                       Traceback (most recent call last)",
      "\u001b[0;32m<ipython-input-31-e8c25591f06d>\u001b[0m in \u001b[0;36m<module>\u001b[0;34m\u001b[0m\n\u001b[0;32m----> 1\u001b[0;31m \u001b[0;32mimport\u001b[0m \u001b[0mgurobipy\u001b[0m \u001b[0;32mas\u001b[0m \u001b[0mgp\u001b[0m\u001b[0;34m\u001b[0m\u001b[0;34m\u001b[0m\u001b[0m\n\u001b[0m\u001b[1;32m      2\u001b[0m \u001b[0;32mfrom\u001b[0m \u001b[0mgurobipy\u001b[0m \u001b[0;32mimport\u001b[0m \u001b[0mGRB\u001b[0m\u001b[0;34m\u001b[0m\u001b[0;34m\u001b[0m\u001b[0m\n\u001b[1;32m      3\u001b[0m \u001b[0;34m\u001b[0m\u001b[0m\n\u001b[1;32m      4\u001b[0m \u001b[0;31m# Create a Gurobi model\u001b[0m\u001b[0;34m\u001b[0m\u001b[0;34m\u001b[0m\u001b[0;34m\u001b[0m\u001b[0m\n\u001b[1;32m      5\u001b[0m \u001b[0mmodel\u001b[0m \u001b[0;34m=\u001b[0m \u001b[0mgp\u001b[0m\u001b[0;34m.\u001b[0m\u001b[0mModel\u001b[0m\u001b[0;34m(\u001b[0m\u001b[0;34m)\u001b[0m\u001b[0;34m\u001b[0m\u001b[0;34m\u001b[0m\u001b[0m\n",
      "\u001b[0;31mModuleNotFoundError\u001b[0m: No module named 'gurobipy'"
     ]
    }
   ],
   "source": [
    "import gurobipy as gp\n",
    "from gurobipy import GRB\n",
    "\n",
    "# Create a Gurobi model\n",
    "model = gp.Model()\n",
    "\n",
    "# Define the decision variables x\n",
    "# Let's assume that x is a 3D binary numpy array with dimensions I, D, T\n",
    "x = model.addVars(I, D, T, vtype=GRB.BINARY)\n",
    "\n",
    "# Define the penalty weights as a dictionary\n",
    "penalty = {('A', 2, 'D'): 2, ('A', 3, 'D'): 2, ('B', 0, 'D'): 3, ('B', 1, 'D'): 3, ('B', 2, 'D'): 3, ('B', 3, 'D'): 3, ('B', 4, 'D'): 3, ('C', 0, 'D'): 1, ('C', 1, 'D'): 1, ('C', 2, 'D'): 1, ('C', 3, 'D'): 1, ('C', 4, 'D'): 1, ('D', 8, 'D'): 2, ('D', 9, 'D'): 2, ('F', 0, 'D'): 2, ('F', 1, 'D'): 2, ('H', 9, 'D'): 1, ('H', 10, 'D'): 1, ('H', 11, 'D'): 1, ('H', 12, 'D'): 1, ('H', 13, 'D'): 1}\n",
    "\n",
    "# Define the objective function\n",
    "obj = 0\n",
    "for i in I:\n",
    "    for d in D:\n",
    "        for t in T:\n",
    "            if (i, d, t) in penalty:\n",
    "                obj += penalty[(i, d, t)] * (1 - x[i, d, t])\n",
    "\n",
    "# Set the objective\n",
    "model.setObjective(obj, GRB.MINIMIZE)\n",
    "\n",
    "# Optimize the model\n",
    "model.optimize()\n"
   ]
  },
  {
   "cell_type": "code",
   "execution_count": null,
   "metadata": {},
   "outputs": [],
   "source": []
  }
 ],
 "metadata": {
  "kernelspec": {
   "display_name": "Python 3",
   "language": "python",
   "name": "python3"
  },
  "language_info": {
   "codemirror_mode": {
    "name": "ipython",
    "version": 3
   },
   "file_extension": ".py",
   "mimetype": "text/x-python",
   "name": "python",
   "nbconvert_exporter": "python",
   "pygments_lexer": "ipython3",
   "version": "3.8.5"
  }
 },
 "nbformat": 4,
 "nbformat_minor": 4
}
